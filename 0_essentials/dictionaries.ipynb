{
 "cells": [
  {
   "cell_type": "markdown",
   "id": "557beea9",
   "metadata": {},
   "source": [
    "# Python Dictionaries"
   ]
  },
  {
   "cell_type": "code",
   "execution_count": 4,
   "id": "485d0ca7",
   "metadata": {},
   "outputs": [],
   "source": [
    "def create_dict():\n",
    "    return {\"first_name\": \"Arthur\",\n",
    "           \"last_name\": \"Wilson\",\n",
    "           \"age\": 42}"
   ]
  },
  {
   "cell_type": "markdown",
   "id": "31d68991",
   "metadata": {},
   "source": [
    "***\n",
    "### Truthiness"
   ]
  },
  {
   "cell_type": "code",
   "execution_count": 5,
   "id": "a2a60b89",
   "metadata": {},
   "outputs": [
    {
     "name": "stdout",
     "output_type": "stream",
     "text": [
      "{'first_name': 'Arthur', 'last_name': 'Wilson', 'age': 42} is True\n",
      "{} is False\n"
     ]
    }
   ],
   "source": [
    "a_dict = create_dict()\n",
    "b_dict = dict()\n",
    "print(f\"{a_dict} is {bool(a_dict)}\")\n",
    "print(f\"{b_dict} is {bool(b_dict)}\")"
   ]
  },
  {
   "cell_type": "markdown",
   "id": "30956016",
   "metadata": {},
   "source": [
    "***\n",
    "### Use dict.items() to get a dict_items object that you can then iterate over."
   ]
  },
  {
   "cell_type": "code",
   "execution_count": 6,
   "id": "c7843b2d",
   "metadata": {},
   "outputs": [
    {
     "name": "stdout",
     "output_type": "stream",
     "text": [
      "first_name := Arthur\n",
      "last_name := Wilson\n",
      "age := 42\n"
     ]
    }
   ],
   "source": [
    "a_dict = create_dict()\n",
    "for key, value in a_dict.items():\n",
    "    print(f\"{key} := {value}\")"
   ]
  },
  {
   "cell_type": "code",
   "execution_count": 7,
   "id": "54baa1b0",
   "metadata": {},
   "outputs": [
    {
     "name": "stdout",
     "output_type": "stream",
     "text": [
      "The dict_items iterable returns tuples: \n",
      "<class 'tuple'>: ('first_name', 'Arthur')\n",
      "<class 'tuple'>: ('last_name', 'Wilson')\n",
      "<class 'tuple'>: ('age', 42)\n"
     ]
    }
   ],
   "source": [
    "a_dict = create_dict()\n",
    "print(\"The dict_items iterable returns tuples: \")\n",
    "for pair in a_dict.items():\n",
    "    print(f\"{type(pair)}: {pair}\")\n"
   ]
  },
  {
   "cell_type": "markdown",
   "id": "a1bb922e-93e1-4029-8365-e3f1a25e07b0",
   "metadata": {},
   "source": [
    "***\n",
    "### Use dict.keys() to get a dict_keys object you can iterate over."
   ]
  },
  {
   "cell_type": "code",
   "execution_count": 9,
   "id": "ded2a6a2-16ab-476a-98d8-8042461801d2",
   "metadata": {},
   "outputs": [
    {
     "name": "stdout",
     "output_type": "stream",
     "text": [
      "key_ring is a <class 'dict_keys'> and contains:\n",
      "dict_keys(['first_name', 'last_name', 'age'])\n",
      "first_name\n",
      "last_name\n",
      "age\n"
     ]
    }
   ],
   "source": [
    "a_dict = create_dict()\n",
    "key_ring = a_dict.keys()\n",
    "print(f\"key_ring is a {type(key_ring)} and contains:\")\n",
    "print(key_ring)\n",
    "\n",
    "for key in key_ring:\n",
    "    print(key)"
   ]
  },
  {
   "cell_type": "markdown",
   "id": "b9df7872-62f6-4eb6-982e-8f57a1ecf049",
   "metadata": {},
   "source": [
    "***\n",
    "### Use dict.values() to get a dict_values object you can iterate over."
   ]
  },
  {
   "cell_type": "code",
   "execution_count": 10,
   "id": "615ff17b-45c8-467c-9518-a43758f9c590",
   "metadata": {},
   "outputs": [
    {
     "name": "stdout",
     "output_type": "stream",
     "text": [
      "values is a <class 'dict_values'> and contains:\n",
      "dict_values(['Arthur', 'Wilson', 42])\n",
      "Arthur\n",
      "Wilson\n",
      "42\n"
     ]
    }
   ],
   "source": [
    "a_dict = create_dict()\n",
    "values = a_dict.values()\n",
    "print(f\"values is a {type(values)} and contains:\")\n",
    "print(values)\n",
    "\n",
    "for value in values:\n",
    "    print(value)"
   ]
  },
  {
   "cell_type": "markdown",
   "id": "684dc0ac",
   "metadata": {
    "tags": []
   },
   "source": [
    "***\n",
    "### dict.get returns the value in the specified key or a default value."
   ]
  },
  {
   "cell_type": "code",
   "execution_count": 4,
   "id": "2741746c",
   "metadata": {},
   "outputs": [
    {
     "name": "stdout",
     "output_type": "stream",
     "text": [
      "Wilson\n",
      "unspecified\n"
     ]
    }
   ],
   "source": [
    "a_dict = create_dict()\n",
    "test1 = a_dict.get(\"last_name\", \"Jones\")\n",
    "print(test1)\n",
    "test2 = a_dict.get(\"gender\", \"unspecified\")\n",
    "print(test2)"
   ]
  },
  {
   "cell_type": "markdown",
   "id": "eb2cae0b",
   "metadata": {},
   "source": [
    "***\n",
    "### If a key does not exist, dict.setdefault sets the key to the default value given."
   ]
  },
  {
   "cell_type": "code",
   "execution_count": 5,
   "id": "9797390f",
   "metadata": {},
   "outputs": [
    {
     "name": "stdout",
     "output_type": "stream",
     "text": [
      "{'age': 42,\n",
      " 'first_name': 'Arthur',\n",
      " 'gender': 'not given',\n",
      " 'last_name': 'Wilson'}\n"
     ]
    }
   ],
   "source": [
    "from pprint import pprint\n",
    "\n",
    "a_dict = create_dict()\n",
    "a_dict.setdefault(\"gender\", \"not given\")\n",
    "pprint(a_dict)"
   ]
  },
  {
   "cell_type": "markdown",
   "id": "c81475c1",
   "metadata": {},
   "source": [
    "***\n",
    "### Dictionary Creation Methods"
   ]
  },
  {
   "cell_type": "code",
   "execution_count": 1,
   "id": "bbcef165",
   "metadata": {},
   "outputs": [
    {
     "data": {
      "text/plain": [
       "{'Chapman': 'Graham',\n",
       " 'Cleese': 'John',\n",
       " 'Gilliam': 'Terry',\n",
       " 'Idle': 'Eric',\n",
       " 'Jones': 'Terry',\n",
       " 'Palin': 'Michael'}"
      ]
     },
     "execution_count": 1,
     "metadata": {},
     "output_type": "execute_result"
    }
   ],
   "source": [
    "# Dictionary from a list of (key, value) tuples\n",
    "\n",
    "dict([(\"Chapman\", \"Graham\"), (\"Cleese\", \"John\"), (\"Gilliam\", \"Terry\"), (\"Idle\", \"Eric\"), (\"Jones\", \"Terry\"), (\"Palin\", \"Michael\")])"
   ]
  },
  {
   "cell_type": "code",
   "execution_count": 6,
   "id": "c52775d2",
   "metadata": {},
   "outputs": [
    {
     "data": {
      "text/plain": [
       "{'Chapman': 'Graham',\n",
       " 'Cleese': 'John',\n",
       " 'Gilliam': 'Terry',\n",
       " 'Idle': 'Eric',\n",
       " 'Jones': 'Terry',\n",
       " 'Palin': 'Michael'}"
      ]
     },
     "execution_count": 6,
     "metadata": {},
     "output_type": "execute_result"
    }
   ],
   "source": [
    "# Dictionary using keyword arguments\n",
    "\n",
    "dict(Chapman=\"Graham\", Cleese=\"John\", Gilliam=\"Terry\", Idle=\"Eric\", Jones=\"Terry\", Palin=\"Michael\")\n"
   ]
  }
 ],
 "metadata": {
  "kernelspec": {
   "display_name": "Python 3 (ipykernel)",
   "language": "python",
   "name": "python3"
  },
  "language_info": {
   "codemirror_mode": {
    "name": "ipython",
    "version": 3
   },
   "file_extension": ".py",
   "mimetype": "text/x-python",
   "name": "python",
   "nbconvert_exporter": "python",
   "pygments_lexer": "ipython3",
   "version": "3.10.12"
  }
 },
 "nbformat": 4,
 "nbformat_minor": 5
}
