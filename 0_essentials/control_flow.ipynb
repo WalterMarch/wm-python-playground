{
 "cells": [
  {
   "cell_type": "markdown",
   "id": "7a1930d5-7376-4b99-8441-600b94fb896d",
   "metadata": {},
   "source": [
    "# Control Flow"
   ]
  },
  {
   "cell_type": "markdown",
   "id": "2b2acaa8-40cd-4377-b5c1-7345d7a99843",
   "metadata": {},
   "source": [
    "## match "
   ]
  },
  {
   "cell_type": "markdown",
   "id": "677891d5-f9c1-4f23-91c9-3d1662ad7cbc",
   "metadata": {},
   "source": [
    "The `match` statement is new in **Python 3.10**. If you are running an earlier version, python will throw you `SyntaxError: invalid syntax`.\n",
    "\n",
    "See https://docs.python.org/3/tutorial/controlflow.html#match-statements for other fun things to do with `match`."
   ]
  },
  {
   "cell_type": "code",
   "execution_count": 1,
   "id": "f78dc7f1-6d83-49ae-810c-e3fc223c0590",
   "metadata": {},
   "outputs": [
    {
     "name": "stdout",
     "output_type": "stream",
     "text": [
      "up inverted is down.\n",
      "left inverted is right.\n",
      "down inverted is up.\n",
      "right inverted is left.\n",
      "north by northwest inverted is go the other way.\n"
     ]
    }
   ],
   "source": [
    "def invert_direction(direction):\n",
    "    direction_lo = direction.lower()\n",
    "\n",
    "    match direction_lo:\n",
    "        case \"up\":\n",
    "            return \"down\"\n",
    "        case \"down\":\n",
    "            return \"up\"\n",
    "        case \"right\":\n",
    "            return \"left\"\n",
    "        case \"left\":\n",
    "            return \"right\"\n",
    "        case _:\n",
    "            return \"go the other way\"\n",
    "\n",
    "\n",
    "for direction in [\"up\", \"left\", \"down\", \"right\", \"north by northwest\"]:\n",
    "    print(f\"{direction} inverted is {invert_direction(direction)}.\")"
   ]
  },
  {
   "cell_type": "markdown",
   "id": "22f7826b-c438-4408-b954-c3dbdea168ab",
   "metadata": {},
   "source": [
    "## if...elif...else"
   ]
  },
  {
   "cell_type": "markdown",
   "id": "2b37a7e7-9d8c-4949-8ec9-1696a75edd9f",
   "metadata": {},
   "source": [
    "In versions prior to **Python 3.10**, you can replicate the `match` statement with an `if...elif...else` ladder."
   ]
  },
  {
   "cell_type": "code",
   "execution_count": 2,
   "id": "8694dce8-7044-4fce-a553-7996df2b5054",
   "metadata": {},
   "outputs": [
    {
     "name": "stdout",
     "output_type": "stream",
     "text": [
      "up inverted is down.\n",
      "left inverted is right.\n",
      "down inverted is up.\n",
      "right inverted is left.\n",
      "north by northwest inverted is go the other way.\n"
     ]
    }
   ],
   "source": [
    "def invert_direction(direction):\n",
    "    direction_lo = direction.lower()\n",
    "    \n",
    "    if direction_lo == \"up\":\n",
    "        return \"down\"\n",
    "    elif direction_lo == \"down\":\n",
    "        return \"up\"\n",
    "    elif direction_lo == \"right\":\n",
    "        return \"left\"\n",
    "    elif direction_lo == \"left\":\n",
    "        return \"right\"\n",
    "    else:\n",
    "        return \"go the other way\"\n",
    "\n",
    "\n",
    "for direction in [\"up\", \"left\", \"down\", \"right\", \"north by northwest\"]:\n",
    "    print(f\"{direction} inverted is {invert_direction(direction)}.\")"
   ]
  }
 ],
 "metadata": {
  "kernelspec": {
   "display_name": "Python 3",
   "language": "python",
   "name": "python3"
  },
  "language_info": {
   "codemirror_mode": {
    "name": "ipython",
    "version": 3
   },
   "file_extension": ".py",
   "mimetype": "text/x-python",
   "name": "python",
   "nbconvert_exporter": "python",
   "pygments_lexer": "ipython3",
   "version": "3.13.1"
  }
 },
 "nbformat": 4,
 "nbformat_minor": 5
}
