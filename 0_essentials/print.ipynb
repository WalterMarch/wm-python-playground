{
 "cells": [
  {
   "cell_type": "markdown",
   "id": "95fc0203-9ee3-4005-9dda-1ff23d039d04",
   "metadata": {},
   "source": [
    "# Output"
   ]
  },
  {
   "cell_type": "markdown",
   "id": "7adf7cd6-d4f9-4070-b86a-553586e18650",
   "metadata": {},
   "source": [
    "## with print statements"
   ]
  },
  {
   "cell_type": "markdown",
   "id": "3c2b025d-316d-48d9-abe8-c1e78d78baeb",
   "metadata": {},
   "source": [
    "### formatting a decimal"
   ]
  },
  {
   "cell_type": "code",
   "execution_count": 3,
   "id": "0c080ecb-b389-4017-ac87-80107d1bd6cc",
   "metadata": {},
   "outputs": [
    {
     "name": "stdout",
     "output_type": "stream",
     "text": [
      "The value of pi is approximately: 3.141593\n"
     ]
    }
   ],
   "source": [
    "import math\n",
    "print(f\"The value of pi is approximately: {math.pi:5f}\")"
   ]
  },
  {
   "cell_type": "markdown",
   "id": "457cd0bc-2890-4ff6-853c-cfdee6472699",
   "metadata": {},
   "source": [
    "### using minimum column widths"
   ]
  },
  {
   "cell_type": "code",
   "execution_count": 11,
   "id": "9b075656-93db-4f23-8657-cb3806da561c",
   "metadata": {},
   "outputs": [
    {
     "name": "stdout",
     "output_type": "stream",
     "text": [
      "Chapman    : 16.733871\n",
      "Cleese     : 17.137097\n",
      "Gilliam    : 16.935484\n",
      "Idle       : 16.330645\n",
      "Jones      : 16.532258\n",
      "Palin      : 16.330645\n"
     ]
    }
   ],
   "source": [
    "from datetime import datetime\n",
    "\n",
    "current_year = datetime.now().year\n",
    "\n",
    "birth_years = {\"Chapman\": 1941, \"Cleese\": 1939, \n",
    "              \"Gilliam\": 1940, \"Idle\": 1943, \n",
    "              \"Jones\": 1942, \"Palin\": 1943}\n",
    "\n",
    "core = dict()\n",
    "for key, value in birth_years.items():\n",
    "    core[key] = current_year - value\n",
    "\n",
    "age_total = sum(core.values())\n",
    "\n",
    "for key, value in core.items():\n",
    "    print(f\"{key:10} : {((value/age_total)*100):5f}\")"
   ]
  },
  {
   "cell_type": "code",
   "execution_count": 5,
   "id": "61e9bdda-21d4-4b49-b424-794929ea91c2",
   "metadata": {},
   "outputs": [
    {
     "name": "stdout",
     "output_type": "stream",
     "text": [
      " 1   1    1\n",
      " 2   4    8\n",
      " 3   9   27\n",
      " 4  16   64\n",
      " 5  25  125\n",
      " 6  36  216\n",
      " 7  49  343\n",
      " 8  64  512\n",
      " 9  81  729\n",
      "10 100 1000\n"
     ]
    }
   ],
   "source": [
    "for x in range(1, 11):\n",
    "    print('{0:2d} {1:3d} {2:4d}'.format(x, x*x, x*x*x))"
   ]
  }
 ],
 "metadata": {
  "kernelspec": {
   "display_name": "Python 3 (ipykernel)",
   "language": "python",
   "name": "python3"
  },
  "language_info": {
   "codemirror_mode": {
    "name": "ipython",
    "version": 3
   },
   "file_extension": ".py",
   "mimetype": "text/x-python",
   "name": "python",
   "nbconvert_exporter": "python",
   "pygments_lexer": "ipython3",
   "version": "3.10.12"
  }
 },
 "nbformat": 4,
 "nbformat_minor": 5
}
