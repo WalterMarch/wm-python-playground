{
 "cells": [
  {
   "cell_type": "markdown",
   "metadata": {},
   "source": [
    "# Some simple comprehensions (Lists, Sets, Dictionaries)"
   ]
  },
  {
   "cell_type": "code",
   "execution_count": 14,
   "metadata": {},
   "outputs": [],
   "source": [
    "from random import randint, seed\n",
    "\n",
    "seed(42)  # setting the random number seed makes for reproducible results"
   ]
  },
  {
   "cell_type": "markdown",
   "metadata": {},
   "source": [
    "## LISTS\n",
    "\n",
    "The following can be done with list(range(1, 21)) but this is for illustration purposes."
   ]
  },
  {
   "cell_type": "code",
   "execution_count": 15,
   "metadata": {},
   "outputs": [
    {
     "name": "stdout",
     "output_type": "stream",
     "text": [
      "Simple list comprehension: [1, 2, 3, 4, 5, 6, 7, 8, 9, 10, 11, 12, 13, 14, 15, 16, 17, 18, 19, 20]\n"
     ]
    }
   ],
   "source": [
    "numbers = [x for x in range(1, 21)]\n",
    "\n",
    "print(f\"Simple list comprehension: {numbers}\")"
   ]
  },
  {
   "cell_type": "code",
   "execution_count": 16,
   "metadata": {},
   "outputs": [
    {
     "name": "stdout",
     "output_type": "stream",
     "text": [
      "even numbers from numbers list: [2, 4, 6, 8, 10, 12, 14, 16, 18, 20]\n"
     ]
    }
   ],
   "source": [
    "even = [number for number in numbers if number % 2 == 0]\n",
    "\n",
    "print(f\"even numbers from numbers list: {even}\")"
   ]
  },
  {
   "cell_type": "code",
   "execution_count": 17,
   "metadata": {},
   "outputs": [
    {
     "name": "stdout",
     "output_type": "stream",
     "text": [
      "a list of 'random' numbers: [4, 1, 9, 8, 8]\n"
     ]
    }
   ],
   "source": [
    "random_elements = [randint(1, 20) for i in range(5)]\n",
    "\n",
    "print(f\"a list of 'random' numbers: {random_elements}\")"
   ]
  },
  {
   "cell_type": "code",
   "execution_count": 1,
   "metadata": {},
   "outputs": [
    {
     "name": "stdout",
     "output_type": "stream",
     "text": [
      "[1, 2, 1, 3, 2, 3]\n"
     ]
    }
   ],
   "source": [
    "print([x + y for x in [0, 1, 2] for y in [0, 1, 2] if x != y])"
   ]
  },
  {
   "cell_type": "markdown",
   "metadata": {},
   "source": [
    "## SETS"
   ]
  },
  {
   "cell_type": "code",
   "execution_count": 18,
   "metadata": {},
   "outputs": [
    {
     "name": "stdout",
     "output_type": "stream",
     "text": [
      "a set of 'random' numbers: {1, 2, 3, 4, 5, 7, 8, 14, 15, 17, 18, 19, 20}\n"
     ]
    }
   ],
   "source": [
    "random_elements_set = {randint(1, 20) for i in range(20)}\n",
    "\n",
    "print(f\"a set of 'random' numbers: {random_elements_set}\")"
   ]
  },
  {
   "cell_type": "markdown",
   "metadata": {},
   "source": [
    "## DICTIONARIES"
   ]
  },
  {
   "cell_type": "code",
   "execution_count": 19,
   "metadata": {},
   "outputs": [
    {
     "name": "stdout",
     "output_type": "stream",
     "text": [
      "a dictionary of 'random' numbers: {1: 19, 2: 9, 3: 1, 4: 6, 5: 14}\n"
     ]
    }
   ],
   "source": [
    "random_value_dictionary = {i: randint(1, 20) for i in range(1, 6)}\n",
    "\n",
    "print(f\"a dictionary of 'random' numbers: {random_value_dictionary}\")"
   ]
  }
 ],
 "metadata": {
  "kernelspec": {
   "display_name": "Python 3",
   "language": "python",
   "name": "python3"
  },
  "language_info": {
   "codemirror_mode": {
    "name": "ipython",
    "version": 3
   },
   "file_extension": ".py",
   "mimetype": "text/x-python",
   "name": "python",
   "nbconvert_exporter": "python",
   "pygments_lexer": "ipython3",
   "version": "3.10.12"
  },
  "orig_nbformat": 4
 },
 "nbformat": 4,
 "nbformat_minor": 2
}
