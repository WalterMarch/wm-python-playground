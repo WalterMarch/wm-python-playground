{
 "cells": [
  {
   "cell_type": "markdown",
   "id": "b6eb27a7-91e8-427b-9404-b73f72225431",
   "metadata": {},
   "source": [
    "# Strings"
   ]
  },
  {
   "cell_type": "markdown",
   "id": "47040b5e-f40e-47f0-ace3-5d46f95227e2",
   "metadata": {},
   "source": [
    "## Slicing"
   ]
  },
  {
   "cell_type": "code",
   "execution_count": 1,
   "id": "6261a5f1-6cf8-4928-b09b-81aac8bfc800",
   "metadata": {},
   "outputs": [
    {
     "data": {
      "text/plain": [
       "'Circus'"
      ]
     },
     "execution_count": 1,
     "metadata": {},
     "output_type": "execute_result"
    }
   ],
   "source": [
    "practice_string = \"Monty Python's Flying Circus\"\n",
    "practice_string[-6:]"
   ]
  },
  {
   "cell_type": "code",
   "execution_count": 2,
   "id": "690e37ff-9c0b-423b-9308-18ecf63b0247",
   "metadata": {},
   "outputs": [
    {
     "data": {
      "text/plain": [
       "'Python'"
      ]
     },
     "execution_count": 2,
     "metadata": {},
     "output_type": "execute_result"
    }
   ],
   "source": [
    "practice_string[6:12]"
   ]
  },
  {
   "cell_type": "code",
   "execution_count": 3,
   "id": "fe5885df-de29-4ffd-afa5-27ca14fdbd92",
   "metadata": {},
   "outputs": [
    {
     "data": {
      "text/plain": [
       "'Monty Python'"
      ]
     },
     "execution_count": 3,
     "metadata": {},
     "output_type": "execute_result"
    }
   ],
   "source": [
    "practice_string[:12]"
   ]
  },
  {
   "cell_type": "markdown",
   "id": "5d32cc97-f1ee-4260-9de5-5b71675c8e48",
   "metadata": {},
   "source": [
    "### Use Slicing to create new string"
   ]
  },
  {
   "cell_type": "code",
   "execution_count": 4,
   "id": "a43aeb15-6898-4061-8e95-4f32636742b3",
   "metadata": {},
   "outputs": [
    {
     "name": "stdout",
     "output_type": "stream",
     "text": [
      "Monty Jython's Flying Circus\n"
     ]
    }
   ],
   "source": [
    "fake_string = f\"{practice_string[:5]} Jython{practice_string[12:]}\"\n",
    "print(fake_string)"
   ]
  }
 ],
 "metadata": {
  "interpreter": {
   "hash": "293fa97e69e17396b0b1afb57e178132f3f93c79f773116dcc447fb6da5aa616"
  },
  "kernelspec": {
   "display_name": "Python 3 (ipykernel)",
   "language": "python",
   "name": "python3"
  },
  "language_info": {
   "codemirror_mode": {
    "name": "ipython",
    "version": 3
   },
   "file_extension": ".py",
   "mimetype": "text/x-python",
   "name": "python",
   "nbconvert_exporter": "python",
   "pygments_lexer": "ipython3",
   "version": "3.9.12"
  }
 },
 "nbformat": 4,
 "nbformat_minor": 5
}
