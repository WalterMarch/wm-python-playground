{
 "cells": [
  {
   "cell_type": "markdown",
   "metadata": {},
   "source": [
    "# `zip` built-in function\n",
    "\n",
    "According to https://docs.python.org/3/library/functions.html#zip, `zip` allows you to \"Iterate over several iterables in parallel, producing tuples with an item from each one.\""
   ]
  },
  {
   "cell_type": "code",
   "execution_count": 14,
   "metadata": {},
   "outputs": [
    {
     "name": "stdout",
     "output_type": "stream",
     "text": [
      "<zip object at 0x7f344da12a00>\n"
     ]
    }
   ],
   "source": [
    "states = [\"Iowa\", \"New York\", \"Pennsylvania\"]\n",
    "capital = [\"Des Moines\", \"Albany\", \"Harrisburg\"]\n",
    "postal_code = [50319, 12207, 17101]\n",
    "\n",
    "capital_zip = zip(capital, states, postal_code)\n",
    "\n",
    "print(capital_zip)"
   ]
  },
  {
   "cell_type": "code",
   "execution_count": 15,
   "metadata": {},
   "outputs": [
    {
     "name": "stdout",
     "output_type": "stream",
     "text": [
      "[('Des Moines', 'Iowa', 50319), ('Albany', 'New York', 12207), ('Harrisburg', 'Pennsylvania', 17101)]\n"
     ]
    }
   ],
   "source": [
    "capital_zip_list = list(capital_zip)\n",
    "print(capital_zip_list)"
   ]
  },
  {
   "cell_type": "code",
   "execution_count": 16,
   "metadata": {},
   "outputs": [
    {
     "name": "stdout",
     "output_type": "stream",
     "text": [
      "('Des Moines', 'Iowa', 50319) <class 'tuple'>\n"
     ]
    }
   ],
   "source": [
    "print(capital_zip_list[0], type(capital_zip_list[0]))"
   ]
  },
  {
   "cell_type": "code",
   "execution_count": 22,
   "metadata": {},
   "outputs": [
    {
     "name": "stdout",
     "output_type": "stream",
     "text": [
      "[   (   {   'date_of_birth': '1941-01-08',\n",
      "            'first_name': 'Graham',\n",
      "            'last_name': 'Chapman'},\n",
      "        'Monty Python and the Holy Grail'),\n",
      "    (   {   'date_of_birth': '1939-10-27',\n",
      "            'first_name': 'John',\n",
      "            'last_name': 'Cleese'},\n",
      "        'A Fish Called Wanda'),\n",
      "    (   {   'date_of_birth': '1940-11-22',\n",
      "            'first_name': 'Terry',\n",
      "            'last_name': 'Gilliam'},\n",
      "        'The Meaning of Life'),\n",
      "    (   {   'date_of_birth': '1943-03-29',\n",
      "            'first_name': 'Eric',\n",
      "            'last_name': 'Idle'},\n",
      "        'Yellowbeard'),\n",
      "    (   {   'date_of_birth': '1942-02-01',\n",
      "            'first_name': 'Terry',\n",
      "            'last_name': 'Jones'},\n",
      "        'Life of Brian'),\n",
      "    (   {   'date_of_birth': '1943-05-05',\n",
      "            'first_name': 'Michael',\n",
      "            'last_name': 'Palin'},\n",
      "        'The Wind in the Willows')]\n"
     ]
    }
   ],
   "source": [
    "actors = [\n",
    "    {\"first_name\": \"Graham\", \"last_name\": \"Chapman\", \"date_of_birth\": \"1941-01-08\"},\n",
    "    {\"first_name\": \"John\", \"last_name\": \"Cleese\", \"date_of_birth\": \"1939-10-27\"},\n",
    "    {\"first_name\": \"Terry\", \"last_name\": \"Gilliam\", \"date_of_birth\": \"1940-11-22\"},\n",
    "    {\"first_name\": \"Eric\", \"last_name\": \"Idle\", \"date_of_birth\": \"1943-03-29\"},\n",
    "    {\"first_name\": \"Terry\", \"last_name\": \"Jones\", \"date_of_birth\": \"1942-02-01\"},\n",
    "    {\"first_name\": \"Michael\", \"last_name\": \"Palin\", \"date_of_birth\": \"1943-05-05\"}\n",
    "]\n",
    "\n",
    "movies = [\n",
    "    \"Monty Python and the Holy Grail\",\n",
    "    \"A Fish Called Wanda\",\n",
    "    \"The Meaning of Life\",\n",
    "    \"Yellowbeard\",\n",
    "    \"Life of Brian\",\n",
    "    \"The Wind in the Willows\"\n",
    "]\n",
    "\n",
    "python_zip = zip(actors, movies)\n",
    "\n",
    "import pprint\n",
    "pp = pprint.PrettyPrinter(indent=4)\n",
    "pp.pprint(list(python_zip))"
   ]
  }
 ],
 "metadata": {
  "kernelspec": {
   "display_name": "Python 3",
   "language": "python",
   "name": "python3"
  },
  "language_info": {
   "codemirror_mode": {
    "name": "ipython",
    "version": 3
   },
   "file_extension": ".py",
   "mimetype": "text/x-python",
   "name": "python",
   "nbconvert_exporter": "python",
   "pygments_lexer": "ipython3",
   "version": "3.10.12"
  }
 },
 "nbformat": 4,
 "nbformat_minor": 2
}
