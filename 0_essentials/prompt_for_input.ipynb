{
 "cells": [
  {
   "cell_type": "markdown",
   "metadata": {},
   "source": [
    "A generic function to prompt for input.\n",
    "\n",
    "Author: https://github.com/WalterMarch"
   ]
  },
  {
   "cell_type": "code",
   "execution_count": 1,
   "metadata": {},
   "outputs": [],
   "source": [
    "def prompt_for_input(prompt_string: str, type_to_get: type) -> any:\n",
    "    valid_input = False\n",
    "    user_input = None\n",
    "\n",
    "    while not valid_input:\n",
    "        try:\n",
    "            user_input = type_to_get(input(prompt_string))\n",
    "            valid_input = True\n",
    "        except ValueError:\n",
    "            print(\"Invalid input. Please try again.\")\n",
    "\n",
    "    return user_input"
   ]
  },
  {
   "cell_type": "code",
   "execution_count": 4,
   "metadata": {},
   "outputs": [
    {
     "name": "stdout",
     "output_type": "stream",
     "text": [
      "You entered 42 (<class 'int'>).\n"
     ]
    }
   ],
   "source": [
    "i = prompt_for_input(\"Enter an integer: \", int)\n",
    "print(f\"You entered {i} ({type(i)}).\")"
   ]
  },
  {
   "cell_type": "code",
   "execution_count": 3,
   "metadata": {},
   "outputs": [
    {
     "name": "stdout",
     "output_type": "stream",
     "text": [
      "You entered 4.2 (<class 'float'>).\n"
     ]
    }
   ],
   "source": [
    "f = prompt_for_input(\"Enter a decimal number: \", float)\n",
    "print(f\"You entered {f} ({type(f)}).\")"
   ]
  },
  {
   "cell_type": "code",
   "execution_count": 5,
   "metadata": {},
   "outputs": [
    {
     "name": "stdout",
     "output_type": "stream",
     "text": [
      "You entered spam (<class 'str'>).\n"
     ]
    }
   ],
   "source": [
    "s = prompt_for_input(\"Enter a string: \", str)\n",
    "print(f\"You entered {s} ({type(s)}).\")"
   ]
  }
 ],
 "metadata": {
  "kernelspec": {
   "display_name": "Python 3",
   "language": "python",
   "name": "python3"
  },
  "language_info": {
   "codemirror_mode": {
    "name": "ipython",
    "version": 3
   },
   "file_extension": ".py",
   "mimetype": "text/x-python",
   "name": "python",
   "nbconvert_exporter": "python",
   "pygments_lexer": "ipython3",
   "version": "3.10.12"
  },
  "orig_nbformat": 4
 },
 "nbformat": 4,
 "nbformat_minor": 2
}
