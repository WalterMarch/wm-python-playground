{
 "cells": [
  {
   "cell_type": "markdown",
   "metadata": {},
   "source": [
    "# Creating Named Tuples from a list of dictionaries"
   ]
  },
  {
   "cell_type": "code",
   "execution_count": 4,
   "metadata": {},
   "outputs": [],
   "source": [
    "from collections import namedtuple\n",
    "\n",
    "def current_row_namedtuple_from_new_value(new_value):\n",
    "    namedTupleConstructor = namedtuple(\n",
    "        new_value.get(\"last_name\",\"current_row\"), \n",
    "        \" \".join(sorted(new_value.keys()))\n",
    "        )\n",
    "    current_row_namedtuple = namedTupleConstructor(**new_value)\n",
    "    return current_row_namedtuple"
   ]
  },
  {
   "cell_type": "code",
   "execution_count": 5,
   "metadata": {},
   "outputs": [],
   "source": [
    "data_set = [\n",
    "    {\"first_name\": \"Graham\", \"last_name\": \"Chapman\", \"date_of_birth\": \"1941-01-08\"},\n",
    "    {\"first_name\": \"John\", \"last_name\": \"Cleese\", \"date_of_birth\": \"1939-10-27\"},\n",
    "    {\"first_name\": \"Terry\", \"last_name\": \"Gilliam\", \"date_of_birth\": \"1940-11-22\"},\n",
    "    {\"first_name\": \"Eric\", \"last_name\": \"Idle\", \"date_of_birth\": \"1943-03-29\"},\n",
    "    {\"first_name\": \"Terry\", \"last_name\": \"Jones\", \"date_of_birth\": \"1942-02-01\"},\n",
    "    {\"first_name\": \"Michael\", \"last_name\": \"Palin\", \"date_of_birth\": \"1943-05-05\"}\n",
    "]"
   ]
  },
  {
   "cell_type": "code",
   "execution_count": 7,
   "metadata": {},
   "outputs": [
    {
     "name": "stdout",
     "output_type": "stream",
     "text": [
      "Chapman(date_of_birth='1941-01-08', first_name='Graham', last_name='Chapman')\n",
      "Cleese(date_of_birth='1939-10-27', first_name='John', last_name='Cleese')\n",
      "Gilliam(date_of_birth='1940-11-22', first_name='Terry', last_name='Gilliam')\n",
      "Idle(date_of_birth='1943-03-29', first_name='Eric', last_name='Idle')\n",
      "Jones(date_of_birth='1942-02-01', first_name='Terry', last_name='Jones')\n",
      "Palin(date_of_birth='1943-05-05', first_name='Michael', last_name='Palin')\n"
     ]
    }
   ],
   "source": [
    "result = map(current_row_namedtuple_from_new_value, data_set)\n",
    "for named_tuple in result:\n",
    "    print(named_tuple)\n"
   ]
  }
 ],
 "metadata": {
  "kernelspec": {
   "display_name": "Python 3",
   "language": "python",
   "name": "python3"
  },
  "language_info": {
   "codemirror_mode": {
    "name": "ipython",
    "version": 3
   },
   "file_extension": ".py",
   "mimetype": "text/x-python",
   "name": "python",
   "nbconvert_exporter": "python",
   "pygments_lexer": "ipython3",
   "version": "3.10.12"
  },
  "orig_nbformat": 4
 },
 "nbformat": 4,
 "nbformat_minor": 2
}
