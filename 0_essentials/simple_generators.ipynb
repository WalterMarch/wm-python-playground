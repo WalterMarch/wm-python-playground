{
 "cells": [
  {
   "cell_type": "markdown",
   "metadata": {},
   "source": [
    "# Some simple Generator examples"
   ]
  },
  {
   "cell_type": "code",
   "execution_count": 54,
   "metadata": {},
   "outputs": [],
   "source": [
    "from random import randint, seed\n",
    "from types import GeneratorType\n",
    "\n",
    "seed(42)  # setting the random number seed makes for reproducible results"
   ]
  },
  {
   "cell_type": "code",
   "execution_count": 55,
   "metadata": {},
   "outputs": [],
   "source": [
    "def print_generator(generator):\n",
    "    \"\"\"Prints the items of a generator.\"\"\"\n",
    "    if isinstance(generator, GeneratorType):\n",
    "        for item in generator:\n",
    "            print(item, end=' ... ')\n",
    "        else:\n",
    "            print(\"DONE\")\n",
    "    else:\n",
    "        print(\"Not a generator\")   \n"
   ]
  },
  {
   "cell_type": "code",
   "execution_count": 56,
   "metadata": {},
   "outputs": [],
   "source": [
    "def even_number_generator(upto):\n",
    "    \"\"\"simple generator that yields even numbers from 2 to upto; for illustration purposes\"\"\"\n",
    "    max_int = None\n",
    "    try:\n",
    "        max_int = int(upto)\n",
    "    except ValueError:\n",
    "        pass\n",
    "\n",
    "    if max_int:\n",
    "        for i in range(2, max_int + 1):\n",
    "            if i % 2 == 0:\n",
    "                yield i"
   ]
  },
  {
   "cell_type": "code",
   "execution_count": 57,
   "metadata": {},
   "outputs": [
    {
     "name": "stdout",
     "output_type": "stream",
     "text": [
      "Simple generator:\n",
      "1 ... 2 ... 3 ... 4 ... 5 ... 6 ... 7 ... 8 ... 9 ... 10 ... 11 ... 12 ... 13 ... 14 ... 15 ... 16 ... 17 ... 18 ... 19 ... 20 ... DONE\n"
     ]
    }
   ],
   "source": [
    "number_generator = (x for x in range(1, 21))\n",
    "\n",
    "print(\"Simple generator:\")\n",
    "print_generator(number_generator)"
   ]
  },
  {
   "cell_type": "code",
   "execution_count": 58,
   "metadata": {},
   "outputs": [
    {
     "name": "stdout",
     "output_type": "stream",
     "text": [
      "Even number generator:\n",
      "2 ... 4 ... 6 ... 8 ... 10 ... 12 ... 14 ... 16 ... 18 ... 20 ... DONE\n"
     ]
    }
   ],
   "source": [
    "number_list = list(range(1, 21))\n",
    "even_generator = (number for number in number_list if number % 2 == 0)\n",
    "\n",
    "print(\"Even number generator:\")\n",
    "print_generator(even_generator)"
   ]
  },
  {
   "cell_type": "code",
   "execution_count": 59,
   "metadata": {},
   "outputs": [
    {
     "name": "stdout",
     "output_type": "stream",
     "text": [
      "Even number generator from even_number_generator function:\n",
      "2 ... 4 ... 6 ... 8 ... 10 ... 12 ... 14 ... 16 ... 18 ... 20 ... DONE\n"
     ]
    }
   ],
   "source": [
    "homemade_even_generator = even_number_generator(21)\n",
    "print(\"Even number generator from even_number_generator function:\")\n",
    "print_generator(homemade_even_generator)"
   ]
  },
  {
   "cell_type": "code",
   "execution_count": 60,
   "metadata": {},
   "outputs": [
    {
     "name": "stdout",
     "output_type": "stream",
     "text": [
      "a generator of 'random' numbers:\n",
      "4 ... 1 ... 9 ... 8 ... 8 ... DONE\n"
     ]
    }
   ],
   "source": [
    "random_generator = (randint(1, 20) for i in range(5))\n",
    "\n",
    "print(f\"a generator of 'random' numbers:\")\n",
    "print_generator(random_generator)"
   ]
  },
  {
   "cell_type": "code",
   "execution_count": 61,
   "metadata": {},
   "outputs": [
    {
     "name": "stdout",
     "output_type": "stream",
     "text": [
      "empty number_generator:\n",
      "DONE\n",
      "empty even_generator:\n",
      "DONE\n",
      "empty random_generator:\n",
      "DONE\n",
      "empty homemade_even_generator:\n",
      "DONE\n"
     ]
    }
   ],
   "source": [
    "# and just to show that the generators are now empty:\n",
    "print(\"empty number_generator:\")\n",
    "print_generator(number_generator)\n",
    "\n",
    "print(\"empty even_generator:\")\n",
    "print_generator(even_generator)\n",
    "\n",
    "print(\"empty random_generator:\")\n",
    "print_generator(random_generator)\n",
    "\n",
    "print(\"empty homemade_even_generator:\")\n",
    "print_generator(homemade_even_generator)"
   ]
  }
 ],
 "metadata": {
  "kernelspec": {
   "display_name": "Python 3",
   "language": "python",
   "name": "python3"
  },
  "language_info": {
   "codemirror_mode": {
    "name": "ipython",
    "version": 3
   },
   "file_extension": ".py",
   "mimetype": "text/x-python",
   "name": "python",
   "nbconvert_exporter": "python",
   "pygments_lexer": "ipython3",
   "version": "3.10.12"
  },
  "orig_nbformat": 4
 },
 "nbformat": 4,
 "nbformat_minor": 2
}
