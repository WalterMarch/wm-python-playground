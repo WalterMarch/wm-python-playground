{
 "cells": [
  {
   "cell_type": "markdown",
   "metadata": {},
   "source": [
    "# Working with Lists, Sets, and Tuples"
   ]
  },
  {
   "cell_type": "code",
   "execution_count": 56,
   "metadata": {},
   "outputs": [
    {
     "name": "stdout",
     "output_type": "stream",
     "text": [
      "<class 'tuple'> (1, 2, 3, 4, 5)\n",
      "(5, 4, 3, 2, 1)\n"
     ]
    }
   ],
   "source": [
    "t1 = (1, 2, 3, 4, 5)\n",
    "print(type(t1), t1)\n",
    "print(t1[::-1])"
   ]
  },
  {
   "cell_type": "code",
   "execution_count": 57,
   "metadata": {},
   "outputs": [
    {
     "name": "stdout",
     "output_type": "stream",
     "text": [
      "<class 'tuple'> (4, 5, 6)\n"
     ]
    }
   ],
   "source": [
    "t2 = (4, 5, 6)\n",
    "print(type(t2), t2)"
   ]
  },
  {
   "cell_type": "code",
   "execution_count": 58,
   "metadata": {},
   "outputs": [
    {
     "name": "stdout",
     "output_type": "stream",
     "text": [
      "<class 'tuple'> (1, 2, 3, 4, 5) + <class 'tuple'> (4, 5, 6) = <class 'tuple'> (1, 2, 3, 4, 5, 4, 5, 6)\n"
     ]
    }
   ],
   "source": [
    "t3 = t1 + t2\n",
    "print(type(t1), t1, \"+\", type(t2), t2, \"=\", type(t3), t3)"
   ]
  },
  {
   "cell_type": "code",
   "execution_count": 59,
   "metadata": {},
   "outputs": [
    {
     "data": {
      "text/plain": [
       "(6, 5, 4, 5, 4, 3, 2, 1)"
      ]
     },
     "execution_count": 59,
     "metadata": {},
     "output_type": "execute_result"
    }
   ],
   "source": [
    "t3[::-1]"
   ]
  },
  {
   "cell_type": "code",
   "execution_count": 60,
   "metadata": {},
   "outputs": [
    {
     "name": "stdout",
     "output_type": "stream",
     "text": [
      "<class 'set'> {4, 5, 6}\n"
     ]
    }
   ],
   "source": [
    "s = {4, 5, 6}\n",
    "print(type(s), s)"
   ]
  },
  {
   "cell_type": "code",
   "execution_count": 61,
   "metadata": {},
   "outputs": [
    {
     "name": "stdout",
     "output_type": "stream",
     "text": [
      "<class 'set'> {4, 5, 6} union <class 'tuple'> (1, 2, 3, 4, 5, 4, 5, 6) is <class 'set'> {1, 2, 3, 4, 5, 6}\n"
     ]
    }
   ],
   "source": [
    "stu = s.union(t3)\n",
    "print(type(s), s, \"union\", type(t3), t3, \"is\", type(stu), stu)"
   ]
  },
  {
   "cell_type": "code",
   "execution_count": null,
   "metadata": {},
   "outputs": [
    {
     "name": "stdout",
     "output_type": "stream",
     "text": [
      "<class 'set'> {4, 5, 6} intersection <class 'tuple'> (1, 2, 3, 4, 5, 4, 5, 6) is <class 'set'> {4, 5, 6}\n"
     ]
    }
   ],
   "source": [
    "sti = s.intersection(t3)\n",
    "print(type(s), s, \"intersection\", type(t3), t3, \"is\", type(sti), sti)"
   ]
  },
  {
   "cell_type": "code",
   "execution_count": 64,
   "metadata": {},
   "outputs": [
    {
     "name": "stdout",
     "output_type": "stream",
     "text": [
      "<class 'list'> [1, 2, 3, 4, 5]\n"
     ]
    }
   ],
   "source": [
    "l = [1, 2, 3, 4, 5]\n",
    "print(type(l), l)"
   ]
  },
  {
   "cell_type": "code",
   "execution_count": 66,
   "metadata": {},
   "outputs": [
    {
     "data": {
      "text/plain": [
       "[5, 4, 3, 2, 1]"
      ]
     },
     "execution_count": 66,
     "metadata": {},
     "output_type": "execute_result"
    }
   ],
   "source": [
    "l[::-1]"
   ]
  },
  {
   "cell_type": "code",
   "execution_count": 67,
   "metadata": {},
   "outputs": [
    {
     "name": "stdout",
     "output_type": "stream",
     "text": [
      "<class 'set'> {4, 5, 6} union <class 'list'> [1, 2, 3, 4, 5] is <class 'set'> {1, 2, 3, 4, 5, 6}\n"
     ]
    }
   ],
   "source": [
    "slu = s.union(l)\n",
    "print(type(s), s, \"union\", type(l), l, \"is\", type(slu), slu)"
   ]
  },
  {
   "cell_type": "code",
   "execution_count": 68,
   "metadata": {},
   "outputs": [
    {
     "name": "stdout",
     "output_type": "stream",
     "text": [
      "<class 'set'> {4, 5, 6} intersection <class 'list'> [1, 2, 3, 4, 5] is <class 'set'> {4, 5}\n"
     ]
    }
   ],
   "source": [
    "sli = s.intersection(l)\n",
    "print(type(s), s, \"intersection\", type(l), l, \"is\", type(sli), sli)"
   ]
  }
 ],
 "metadata": {
  "kernelspec": {
   "display_name": "Python 3",
   "language": "python",
   "name": "python3"
  },
  "language_info": {
   "codemirror_mode": {
    "name": "ipython",
    "version": 3
   },
   "file_extension": ".py",
   "mimetype": "text/x-python",
   "name": "python",
   "nbconvert_exporter": "python",
   "pygments_lexer": "ipython3",
   "version": "3.10.12"
  }
 },
 "nbformat": 4,
 "nbformat_minor": 2
}
