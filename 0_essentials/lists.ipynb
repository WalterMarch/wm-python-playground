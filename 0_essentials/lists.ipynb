{
 "cells": [
  {
   "cell_type": "markdown",
   "id": "bc01d158",
   "metadata": {},
   "source": [
    "# Python Lists"
   ]
  },
  {
   "cell_type": "code",
   "execution_count": 18,
   "id": "9a5412a7",
   "metadata": {
    "tags": []
   },
   "outputs": [],
   "source": [
    "def create_string_list():\n",
    "    return [\"Red\", \"orange\", \"yellow\", \"Green\", \"Blue\", \"indigo\", \"violet\", \"blue\"]\n",
    "\n",
    "def create_numeric_list():\n",
    "    return [27, 1, 8, 2, 8, 18, 28, 45, 90, 45.0]\n",
    "\n",
    "def create_mixed_list():\n",
    "    return create_string_list() + create_numeric_list()"
   ]
  },
  {
   "cell_type": "code",
   "execution_count": 19,
   "id": "07305c62-9886-4672-a59f-42fae88d06f4",
   "metadata": {},
   "outputs": [],
   "source": [
    "def create_and_print_lists():\n",
    "    str_list = create_string_list()\n",
    "    num_list = create_numeric_list()\n",
    "    mix_list = create_mixed_list()\n",
    "    \n",
    "    print(f\"str_list: {str_list}\")\n",
    "    print(f\"num_list: {num_list}\")\n",
    "    print(f\"mix_list: {mix_list}\")\n",
    "    \n",
    "    return str_list, num_list, mix_list"
   ]
  },
  {
   "cell_type": "code",
   "execution_count": 20,
   "id": "7a97ce09",
   "metadata": {},
   "outputs": [
    {
     "name": "stdout",
     "output_type": "stream",
     "text": [
      "list of lists: [['Red', 'orange', 'yellow', 'Green', 'Blue', 'indigo', 'violet', 'blue'], [27, 1, 8, 2, 8, 18, 28, 45, 90, 45.0], ['Red', 'orange', 'yellow', 'Green', 'Blue', 'indigo', 'violet', 'blue', 27, 1, 8, 2, 8, 18, 28, 45, 90, 45.0]]\n",
      "\n",
      "Each list in the list of lists:\n",
      "['Red', 'orange', 'yellow', 'Green', 'Blue', 'indigo', 'violet', 'blue']\n",
      "[27, 1, 8, 2, 8, 18, 28, 45, 90, 45.0]\n",
      "['Red', 'orange', 'yellow', 'Green', 'Blue', 'indigo', 'violet', 'blue', 27, 1, 8, 2, 8, 18, 28, 45, 90, 45.0]\n"
     ]
    }
   ],
   "source": [
    "str_list = create_string_list()\n",
    "num_list = create_numeric_list()\n",
    "mix_list = create_mixed_list()\n",
    "list_list = [str_list, num_list, mix_list]\n",
    "\n",
    "print(f\"list of lists: {list_list}\")\n",
    "print(\"\\nEach list in the list of lists:\")\n",
    "for inner_list in list_list:\n",
    "    print(inner_list)"
   ]
  },
  {
   "cell_type": "markdown",
   "id": "1c762f1d",
   "metadata": {},
   "source": [
    "***\n",
    "### Truthiness"
   ]
  },
  {
   "cell_type": "code",
   "execution_count": 21,
   "id": "fc2981f5",
   "metadata": {},
   "outputs": [
    {
     "name": "stdout",
     "output_type": "stream",
     "text": [
      "['Red', 'orange', 'yellow', 'Green', 'Blue', 'indigo', 'violet', 'blue', 27, 1, 8, 2, 8, 18, 28, 45, 90, 45.0] is True\n",
      "[] is False\n",
      "[] is False\n"
     ]
    }
   ],
   "source": [
    "list_of_stuff = create_mixed_list()\n",
    "list2 = list()\n",
    "list3 = list(\"\")\n",
    "\n",
    "print(f\"{list_of_stuff} is {bool(list_of_stuff)}\")\n",
    "print(f\"{list2} is {bool(list2)}\")\n",
    "print(f\"{list3} is {bool(list3)}\")\n"
   ]
  },
  {
   "cell_type": "markdown",
   "id": "6ddcbe2a-01ea-4e35-8c70-7a4e45d5c43c",
   "metadata": {},
   "source": [
    "***\n",
    "### Create lists using List Comprehension"
   ]
  },
  {
   "cell_type": "code",
   "execution_count": 22,
   "id": "afa669e1-81c1-4477-ba55-a6e1493255f3",
   "metadata": {},
   "outputs": [
    {
     "name": "stdout",
     "output_type": "stream",
     "text": [
      "<class 'list'> squares 0 through 9 via list comprehension: [0, 1, 4, 9, 16, 25, 36, 49, 64, 81]\n",
      "Even numbers less than 21 via list comprehension: [0, 2, 4, 6, 8, 10, 12, 14, 16, 18, 20]\n",
      "<class 'list'> vowels: ['a', 'e', 'i', 'o', 'u']\n"
     ]
    }
   ],
   "source": [
    "x = 10\n",
    "squares = [i * i for i in range(x)]\n",
    "print(f\"{type(squares)} squares 0 through {x -1} via list comprehension: {squares}\")\n",
    "\n",
    "i = 21\n",
    "even_nums = [num for num in range(i) if not num % 2]\n",
    "print(f\"Even numbers less than {i} via list comprehension: {even_nums}\")\n",
    "\n",
    "vowels = list(\"aeiou\")\n",
    "print(f\"{type(vowels)} vowels: {vowels}\")"
   ]
  },
  {
   "cell_type": "markdown",
   "id": "4e64f305",
   "metadata": {},
   "source": [
    "***\n",
    "### Slicing"
   ]
  },
  {
   "cell_type": "code",
   "execution_count": 23,
   "id": "cfca994f",
   "metadata": {},
   "outputs": [
    {
     "data": {
      "text/plain": [
       "[49, 64, 81]"
      ]
     },
     "execution_count": 23,
     "metadata": {},
     "output_type": "execute_result"
    }
   ],
   "source": [
    "# last 3 items\n",
    "squares[-3:]"
   ]
  },
  {
   "cell_type": "code",
   "execution_count": 24,
   "id": "515eccda",
   "metadata": {},
   "outputs": [
    {
     "data": {
      "text/plain": [
       "[9, 16, 25]"
      ]
     },
     "execution_count": 24,
     "metadata": {},
     "output_type": "execute_result"
    }
   ],
   "source": [
    "# 3 items from the middle (index 3 to 5, inclusive)\n",
    "squares[3:6]"
   ]
  },
  {
   "cell_type": "code",
   "execution_count": 25,
   "id": "6226e485",
   "metadata": {},
   "outputs": [
    {
     "data": {
      "text/plain": [
       "[0, 1, 4, 9, 16, 25]"
      ]
     },
     "execution_count": 25,
     "metadata": {},
     "output_type": "execute_result"
    }
   ],
   "source": [
    "# first 6 items\n",
    "squares[:6]"
   ]
  },
  {
   "cell_type": "markdown",
   "id": "0f07be87",
   "metadata": {},
   "source": [
    "### Use Slicing to create a shallow copy"
   ]
  },
  {
   "cell_type": "code",
   "execution_count": 26,
   "id": "42701ec2",
   "metadata": {},
   "outputs": [
    {
     "data": {
      "text/plain": [
       "[1, 4, 9, 16, 25]"
      ]
     },
     "execution_count": 26,
     "metadata": {},
     "output_type": "execute_result"
    }
   ],
   "source": [
    "sqrs_first_5_pos_ints = squares[1:6]\n",
    "sqrs_first_5_pos_ints"
   ]
  },
  {
   "cell_type": "markdown",
   "id": "03359b78-db22-47bf-948a-d4e2de93ced9",
   "metadata": {},
   "source": [
    "***\n",
    "### append\n",
    "Append an item to the end of a list."
   ]
  },
  {
   "cell_type": "code",
   "execution_count": 27,
   "id": "4e4392e3-3f58-4836-a41d-3d9d5b22275f",
   "metadata": {},
   "outputs": [
    {
     "name": "stdout",
     "output_type": "stream",
     "text": [
      "str_list: ['Red', 'orange', 'yellow', 'Green', 'Blue', 'indigo', 'violet', 'blue']\n",
      "str_list after str_list.append('green'): ['Red', 'orange', 'yellow', 'Green', 'Blue', 'indigo', 'violet', 'blue', 'green']\n"
     ]
    }
   ],
   "source": [
    "str_list = create_string_list()\n",
    "print(f\"str_list: {str_list}\")\n",
    "\n",
    "str_list.append('green')\n",
    "print(f\"str_list after str_list.append('green'): {str_list}\")"
   ]
  },
  {
   "cell_type": "markdown",
   "id": "2561478d-96ea-4f82-9cf0-4f68aea62d49",
   "metadata": {},
   "source": [
    "***\n",
    "### remove\n",
    "Removes the first instance of an item from a list.  \n",
    "Note: 'blue' != 'Blue' but 45.0 == 45."
   ]
  },
  {
   "cell_type": "code",
   "execution_count": 28,
   "id": "7790b9f6-fe92-4aea-8675-3c34845f8cf4",
   "metadata": {},
   "outputs": [
    {
     "name": "stdout",
     "output_type": "stream",
     "text": [
      "str_list: ['Red', 'orange', 'yellow', 'Green', 'Blue', 'indigo', 'violet', 'blue']\n",
      "num_list: [27, 1, 8, 2, 8, 18, 28, 45, 90, 45.0]\n",
      "mix_list: ['Red', 'orange', 'yellow', 'Green', 'Blue', 'indigo', 'violet', 'blue', 27, 1, 8, 2, 8, 18, 28, 45, 90, 45.0]\n",
      "\n",
      "str_list after str_list.remove('blue'): ['Red', 'orange', 'yellow', 'Green', 'Blue', 'indigo', 'violet']\n",
      "num_list after num_list.remove(num_list): [27, 1, 8, 2, 8, 18, 28, 90, 45.0]\n"
     ]
    }
   ],
   "source": [
    "str_list, num_list, mix_list = create_and_print_lists()\n",
    "print()\n",
    "\n",
    "str_list.remove('blue')\n",
    "print(f\"str_list after str_list.remove('blue'): {str_list}\")\n",
    "\n",
    "num_list.remove(float(45.0))\n",
    "print(f\"num_list after num_list.remove(num_list): {num_list}\")\n"
   ]
  },
  {
   "cell_type": "markdown",
   "id": "844b38ce",
   "metadata": {},
   "source": [
    "***\n",
    "### pop\n",
    "Without an index, the last item is \"popped\" off the list. Pop means the value is removed and returned by the pop method."
   ]
  },
  {
   "cell_type": "code",
   "execution_count": 29,
   "id": "8bc30559",
   "metadata": {},
   "outputs": [
    {
     "name": "stdout",
     "output_type": "stream",
     "text": [
      "original str_list: ['Red', 'orange', 'yellow', 'Green', 'Blue', 'indigo', 'violet', 'blue']\n",
      "str_list after a pop: ['Red', 'orange', 'yellow', 'Green', 'Blue', 'indigo', 'violet']\n",
      "\n",
      "pop and assign to a variable:\n",
      "str_list after popping 'violet': ['Red', 'orange', 'yellow', 'Green', 'Blue', 'indigo']\n",
      "\n",
      "pop from a specific index (pop_index = 1):\n",
      "str_list after popping 'orange': ['Red', 'yellow', 'Green', 'Blue', 'indigo']\n"
     ]
    }
   ],
   "source": [
    "str_list = create_string_list()\n",
    "print(f\"original str_list: {str_list}\")\n",
    "\n",
    "str_list.pop()\n",
    "print(f\"str_list after a pop: {str_list}\")\n",
    "\n",
    "print(\"\\npop and assign to a variable:\")\n",
    "popped = str_list.pop()\n",
    "print(f\"str_list after popping '{popped}': {str_list}\")\n",
    "\n",
    "pop_index = 1\n",
    "print(f\"\\npop from a specific index (pop_index = {pop_index}):\")\n",
    "popped_from_index = str_list.pop(pop_index)\n",
    "print(f\"str_list after popping '{popped_from_index}': {str_list}\")\n"
   ]
  },
  {
   "cell_type": "markdown",
   "id": "b082745f",
   "metadata": {},
   "source": [
    "***\n",
    "### max\n",
    "Returns max value in a list of strings or numbers."
   ]
  },
  {
   "cell_type": "code",
   "execution_count": 30,
   "id": "b625e99a",
   "metadata": {},
   "outputs": [
    {
     "name": "stdout",
     "output_type": "stream",
     "text": [
      "str_list: ['Red', 'orange', 'yellow', 'Green', 'Blue', 'indigo', 'violet', 'blue']\n",
      "num_list: [27, 1, 8, 2, 8, 18, 28, 45, 90, 45.0]\n",
      "mix_list: ['Red', 'orange', 'yellow', 'Green', 'Blue', 'indigo', 'violet', 'blue', 27, 1, 8, 2, 8, 18, 28, 45, 90, 45.0]\n",
      "\n",
      "max() on various lists:\n",
      "\tList of Strings: yellow\n",
      "\tList of numbers: 90\n",
      "max() can't handle lists of both strings and numbers.\n"
     ]
    }
   ],
   "source": [
    "str_list, num_list, mix_list = create_and_print_lists()\n",
    "\n",
    "print()\n",
    "print(\"max() on various lists:\")\n",
    "print(f\"\\tList of Strings: {max(str_list)}\")\n",
    "print(f\"\\tList of numbers: {max(num_list)}\")\n",
    "try:\n",
    "    print(f\"\\tList of Strings and Numbers: {max(mix_list)}\")\n",
    "except TypeError:\n",
    "    print(\"max() can't handle lists of both strings and numbers.\")"
   ]
  },
  {
   "cell_type": "markdown",
   "id": "e6c43eee-01f0-4ea8-855d-9f9a54709610",
   "metadata": {},
   "source": [
    "***\n",
    "### min\n",
    "Returns max value in a list of strings or numbers."
   ]
  },
  {
   "cell_type": "code",
   "execution_count": 31,
   "id": "82bb7cdd",
   "metadata": {},
   "outputs": [
    {
     "name": "stdout",
     "output_type": "stream",
     "text": [
      "str_list: ['Red', 'orange', 'yellow', 'Green', 'Blue', 'indigo', 'violet', 'blue']\n",
      "num_list: [27, 1, 8, 2, 8, 18, 28, 45, 90, 45.0]\n",
      "mix_list: ['Red', 'orange', 'yellow', 'Green', 'Blue', 'indigo', 'violet', 'blue', 27, 1, 8, 2, 8, 18, 28, 45, 90, 45.0]\n",
      "\n",
      "min() on various lists:\n",
      "\tList of Strings: Blue\n",
      "\tList of Integers: 1\n",
      "min() can't handle lists of both strings and numbers.\n"
     ]
    }
   ],
   "source": [
    "str_list, num_list, mix_list = create_and_print_lists()\n",
    "\n",
    "print()\n",
    "print(\"min() on various lists:\")\n",
    "print(f\"\\tList of Strings: {min(str_list)}\")\n",
    "print(f\"\\tList of Integers: {min(num_list)}\")\n",
    "try:\n",
    "    print(f\"\\tList of Strings and Integers: {min(mix_list)}\")\n",
    "except TypeError:\n",
    "    print(\"min() can't handle lists of both strings and numbers.\")"
   ]
  },
  {
   "cell_type": "markdown",
   "id": "b53740d3-1ae1-4cd9-9788-52351db18211",
   "metadata": {},
   "source": [
    "***\n",
    "### sum\n",
    "Returns the sum of a list of numbers."
   ]
  },
  {
   "cell_type": "code",
   "execution_count": 32,
   "id": "f1f95c6b",
   "metadata": {},
   "outputs": [
    {
     "name": "stdout",
     "output_type": "stream",
     "text": [
      "str_list: ['Red', 'orange', 'yellow', 'Green', 'Blue', 'indigo', 'violet', 'blue']\n",
      "num_list: [27, 1, 8, 2, 8, 18, 28, 45, 90, 45.0]\n",
      "mix_list: ['Red', 'orange', 'yellow', 'Green', 'Blue', 'indigo', 'violet', 'blue', 27, 1, 8, 2, 8, 18, 28, 45, 90, 45.0]\n",
      "\n",
      "sum() on various lists:\n",
      "\tList of Numbers: 272.0\n",
      "sum() can't handle lists of strings.\n",
      "sum() can't handle lists of both strings and numbers.\n"
     ]
    }
   ],
   "source": [
    "str_list, num_list, mix_list = create_and_print_lists()\n",
    "\n",
    "print()\n",
    "print(\"sum() on various lists:\")\n",
    "print(f\"\\tList of Numbers: {sum(num_list)}\")\n",
    "\n",
    "try:\n",
    "    print(f\"\\tList of Strings: {sum(str_list)}\")\n",
    "except TypeError:\n",
    "    print(\"sum() can't handle lists of strings.\")\n",
    "\n",
    "try:\n",
    "    print(f\"\\tList of Strings and Numbers: {sum(mix_list)}\")\n",
    "except TypeError:\n",
    "    print(\"sum() can't handle lists of both strings and numbers.\")"
   ]
  },
  {
   "cell_type": "markdown",
   "id": "c7f4f97f",
   "metadata": {},
   "source": [
    "***\n",
    "### Sorting lists"
   ]
  },
  {
   "cell_type": "code",
   "execution_count": 33,
   "id": "fa6b148c",
   "metadata": {},
   "outputs": [
    {
     "name": "stdout",
     "output_type": "stream",
     "text": [
      "str_list: ['Red', 'orange', 'yellow', 'Green', 'Blue', 'indigo', 'violet', 'blue']\n",
      "num_list: [27, 1, 8, 2, 8, 18, 28, 45, 90, 45.0]\n",
      "mix_list: ['Red', 'orange', 'yellow', 'Green', 'Blue', 'indigo', 'violet', 'blue', 27, 1, 8, 2, 8, 18, 28, 45, 90, 45.0]\n",
      "\n",
      "sorted() takes a list and returns a sorted copy of the list:\n",
      "\tstr_list: ['Blue', 'Green', 'Red', 'blue', 'indigo', 'orange', 'violet', 'yellow']\n",
      "\tnum_list: [1, 2, 8, 8, 18, 27, 28, 45, 45.0, 90]\n",
      "\tsorted() can't handle lists of both strings and numbers.\n",
      "\n",
      "but list.sort() sorts the list in place:\n",
      "\t['Red', 'orange', 'yellow', 'Green', 'Blue', 'indigo', 'violet', 'blue']\n",
      "\t becomes:\n",
      "\t['Blue', 'Green', 'Red', 'blue', 'indigo', 'orange', 'violet', 'yellow']\n",
      "\n",
      "\t[27, 1, 8, 2, 8, 18, 28, 45, 90, 45.0]\n",
      "\t becomes:\n",
      "\t[1, 2, 8, 8, 18, 27, 28, 45, 45.0, 90]\n",
      "\n",
      "\t['Red', 'orange', 'yellow', 'Green', 'Blue', 'indigo', 'violet', 'blue', 27, 1, 8, 2, 8, 18, 28, 45, 90, 45.0]\n",
      "\tlist.sort() can't handle lists of both strings and numbers.\n"
     ]
    }
   ],
   "source": [
    "unsorted_str_list, unsorted_num_list, unsorted_mix_list = create_and_print_lists()\n",
    "\n",
    "print(\"\\nsorted() takes a list and returns a sorted copy of the list:\")\n",
    "sorted_str_list = sorted(unsorted_str_list)\n",
    "print(f\"\\tstr_list: {sorted_str_list}\")\n",
    "sorted_num_list = sorted(unsorted_num_list)\n",
    "print(f\"\\tnum_list: {sorted_num_list}\")\n",
    "try:\n",
    "    sorted_mix_list = sorted(unsorted_mix_list)\n",
    "    print(f\"\\tmix_list: {sorted_mix_list}\")\n",
    "except TypeError:\n",
    "    print(\"\\tsorted() can't handle lists of both strings and numbers.\")\n",
    "    \n",
    "print(\"\\nbut list.sort() sorts the list in place:\")\n",
    "\n",
    "print(f\"\\t{unsorted_str_list}\")\n",
    "print(\"\\t becomes:\")\n",
    "unsorted_str_list.sort()\n",
    "print(f\"\\t{unsorted_str_list}\")\n",
    "\n",
    "print(f\"\\n\\t{unsorted_num_list}\")\n",
    "print(\"\\t becomes:\")\n",
    "unsorted_num_list.sort()\n",
    "print(f\"\\t{unsorted_num_list}\")\n",
    "\n",
    "print(f\"\\n\\t{unsorted_mix_list}\")\n",
    "try:\n",
    "    unsorted_mix_list.sort()\n",
    "    print(\"\\t becomes:\")\n",
    "    print(f\"\\t{unsorted_mix_list}\")\n",
    "except TypeError:\n",
    "    print(\"\\tlist.sort() can't handle lists of both strings and numbers.\")    \n"
   ]
  },
  {
   "cell_type": "markdown",
   "id": "682f24e6",
   "metadata": {},
   "source": [
    "***\n",
    "### Cast a list to a set"
   ]
  },
  {
   "cell_type": "code",
   "execution_count": 34,
   "id": "e32287b2",
   "metadata": {},
   "outputs": [
    {
     "name": "stdout",
     "output_type": "stream",
     "text": [
      "str_list: ['Red', 'orange', 'yellow', 'Green', 'Blue', 'indigo', 'violet', 'blue']\n",
      "num_list: [27, 1, 8, 2, 8, 18, 28, 45, 90, 45.0]\n",
      "mix_list: ['Red', 'orange', 'yellow', 'Green', 'Blue', 'indigo', 'violet', 'blue', 27, 1, 8, 2, 8, 18, 28, 45, 90, 45.0]\n",
      "\n",
      "You can cast a list to set to get only the unique values:\n",
      "str_set: {'orange', 'blue', 'violet', 'indigo', 'Red', 'Green', 'Blue', 'yellow'}\n",
      "num_set: {1, 2, 8, 45, 18, 90, 27, 28}\n",
      "mix_set: {'orange', 1, 2, 'blue', 27, 'violet', 8, 45, 'indigo', 18, 'Red', 'Green', 90, 'Blue', 28, 'yellow'}\n",
      "\n",
      "Now cast the set back to a list to make it mutable again.\n",
      "str_unique_list: ['orange', 'blue', 'violet', 'indigo', 'Red', 'Green', 'Blue', 'yellow']\n",
      "num_unique_list: [1, 2, 8, 45, 18, 90, 27, 28]\n",
      "mix_unique_list: ['orange', 1, 2, 'blue', 27, 'violet', 8, 45, 'indigo', 18, 'Red', 'Green', 90, 'Blue', 28, 'yellow']\n"
     ]
    }
   ],
   "source": [
    "str_list, num_list, mix_list = create_and_print_lists()\n",
    "\n",
    "print()\n",
    "print(\"You can cast a list to set to get only the unique values:\")\n",
    "str_set = set(str_list)\n",
    "num_set = set(num_list)\n",
    "mix_set = set(mix_list)\n",
    "\n",
    "print(f\"str_set: {str_set}\")\n",
    "print(f\"num_set: {num_set}\")\n",
    "print(f\"mix_set: {mix_set}\")\n",
    "\n",
    "print(\"\\nNow cast the set back to a list to make it mutable again.\")\n",
    "\n",
    "str_unique_list = list(str_set)\n",
    "num_unique_list = list(num_set)\n",
    "mix_unique_list = list(mix_set)\n",
    "\n",
    "print(f\"str_unique_list: {str_unique_list}\")\n",
    "print(f\"num_unique_list: {num_unique_list}\")\n",
    "print(f\"mix_unique_list: {mix_unique_list}\")\n"
   ]
  },
  {
   "cell_type": "code",
   "execution_count": null,
   "id": "1a557c42-0018-4433-b1a8-4a7c1fb7cd60",
   "metadata": {},
   "outputs": [],
   "source": []
  }
 ],
 "metadata": {
  "kernelspec": {
   "display_name": "Python 3 (ipykernel)",
   "language": "python",
   "name": "python3"
  },
  "language_info": {
   "codemirror_mode": {
    "name": "ipython",
    "version": 3
   },
   "file_extension": ".py",
   "mimetype": "text/x-python",
   "name": "python",
   "nbconvert_exporter": "python",
   "pygments_lexer": "ipython3",
   "version": "3.10.12"
  }
 },
 "nbformat": 4,
 "nbformat_minor": 5
}
